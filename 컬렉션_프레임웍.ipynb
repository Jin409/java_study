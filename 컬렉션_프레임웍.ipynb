{
 "cells": [
  {
   "cell_type": "markdown",
   "metadata": {},
   "source": [
    "## `컬렉션 프레임웍`"
   ]
  },
  {
   "cell_type": "markdown",
   "metadata": {},
   "source": [
    "### 컬렉션 프레임웍\n",
    "- 다수의 데이터를 쉽게 처리할 수 있는 방법을 제공하는 클래스들\n",
    "- 컬렉션 : 다수의 데이터 / 데이터 그룹\n",
    "\n",
    "> ### 1.1 컬렉션 프레임웍의 인터페이스\n",
    "- List : 순서가 있는 데이터의 집합 / 중복 허용\n",
    "- Set : 순서 유지하지 않는 데이터의 집합 / 중복 허용 x\n",
    "- Map : key와 value 쌍으로 이루어진 데이터의 집합 / 순서 유지 x / 키 중복 x / 값 허용 가능\n",
    "\n",
    "#### Collection 인터페이스\n",
    "- 인터페이스 내의 메서드\n",
    "- boolean add(Object o) 객체들을 추가\n",
    "- void clear() Collection의 모든 객체 삭제\n",
    "- ...\n",
    "\n",
    "#### List 인터페이스\n",
    "- 중복 허용 / 저장 순서 유지\n",
    "- 인터페이스 구현한 클래스 => vector, ArrayList, LinkedList\n",
    "- 인터페이스 내의 메서드\n",
    "- void add(int index, Object element) 저장된 위치에 객체들을 추가\n",
    "- int indexOf(Object o) 저장된 위치의 객체 반환\n",
    "- void sort(Comparator c) 비교자로 정렬\n",
    "\n",
    "#### Set 인터페이스\n",
    "- 중복 허용 하지 않음 / 저장 순서 유지 안함\n",
    "- 인터페이스 구현한 클래스 => HashSet, SortedSet\n",
    "\n",
    "#### Map 인터페이스\n",
    "- key 와 value 를 하나의 쌍으로 묶어서 저장\n",
    "- Hashtable, HashMap, SortedMap\n",
    "- 인터페이스 내의 메서드\n",
    "- boolean containsKey key 객체와 일치하는 Map의 key 객체가 있는지 확인\n",
    "- Object get(Object key) key 객체에 대응하는 value 객체 찾아서 반환\n",
    "- Collection values() 모든 value 객체 반환\n",
    "\n",
    "#### Map.Entry 인터페이스\n",
    "- Map 인터페이스의 내부 인터페이스\n",
    "- 인터페이스의 메서드\n",
    "- boolean equals(Object o) 동일한 Entry 인지 비교\n",
    "- Object getValue() value 객체를 반환한다\n",
    "- Object setValue(Object value) Entry의 value 객체를 지정된 객체로 바꿈\n",
    "\n",
    "> ### 1.2 ArrayList\n",
    "- Object 배열을 이용하여 데이터를 순차적으로 저장\n",
    "- 더 이상 공간이 없으면 기존의 내용을 새로운 배열로 복사하고 난 뒤에 저장\n",
    "- 선언된 배열의 타입이 모든 객체의 조상인 Object 여서 모든 종류의 객체를 담을 수 있음\n",
    "- 클래스의 메서드\n",
    "- ArrayList() 생성\n",
    "- ArrayList(Collection c) 컬렉션이 저장된 배열 생성\n",
    "- boolean addAll(Collection c) 주어진 컬렉션의 모든 객체 저장\n",
    "\n",
    "- Vector의 경우 trimToSize() 를 호출하면 새로운 배열을 생성, 빈공간을 없앰\n",
    "- ensureCapacity(6) => 새로운 인스턴스 생성해서 capacity가 최소한 6이 되도록 함 / 이미 6을 넘었으면 아무런 조치 x / 모자라면 자동적으로 2배로 늘림\n",
    "- remove 시에는 지정된 위치의 객체 반환하고, 삭제할 데이터 바로 아래의 데이터를 위로 복사해서 삭제 할 객체를 덮어씀 (삭제하고자 하는 객체가 맨 마지막이라면 null로)\n",
    "\n",
    "> ### 1.3 LinkedList\n",
    "- 자료구조가 간단 / 데이터 접근시간이 가장 빠름\n",
    "- 단점 : 크기 변경 불가 / 비순차적인 데이터의 추가 혹은 삭제가 오래걸림\n",
    "- 복사 과정이 없어서 처리가 빠르다"
   ]
  }
 ],
 "metadata": {
  "language_info": {
   "name": "python"
  },
  "orig_nbformat": 4
 },
 "nbformat": 4,
 "nbformat_minor": 2
}
