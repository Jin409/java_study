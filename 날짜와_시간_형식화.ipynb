{
 "cells": [
  {
   "cell_type": "markdown",
   "metadata": {},
   "source": [
    "## `날짜와 시간`\n",
    "\n",
    "#### Calendar / GregorianCalendar\n",
    "- Calendar 은 추상클래스이기때문에 직접 객체 생성 불가능 => 메서드로 완전히 구현된 클래스의 인스턴스를 얻어야 함\n",
    "```Java\n",
    "Calendar cal = Calendar.getInstance();\n",
    "```\n",
    "- 지역에 따라서 다른 캘린더 반환\n",
    "\n",
    "#### Date 와 Calendar 간의 변환\n",
    "- 용도 : Date 는 Calendar 의 추가 이후 잘 사용되지 않지만, 여전히 Date 를 필요로 하는 메서드들이 존재하기 때문\n",
    "```Java\n",
    "Calendar cal = Calendar.getInstance();\n",
    "Date d = new Date(cal.getTimeInMillis()); // Calendar 를 Date 로\n",
    "\n",
    "Date d = new Date();\n",
    "Calendar cal = Calendar.getInstance();\n",
    "cal.setTime(d); // Date 를 Cal 로\n",
    "```\n",
    "- .get(Calendar.MONTH) 하면 무슨달인지 출력됨 -> 0~11임을 유의\n",
    "- void set(int year, int month, int date, int hourOfDay, int minute, int second)\n",
    "- .getTimeInMillis() 는 1/1000초 단위로 값을 반환\n",
    "- add(int field, int amount) 로 필드의 값을 원하는만큼 증가시킬 수 있음\n",
    "```Java\n",
    "date.add(Calendar.DATE,1); //하루가 증가\n",
    "```\n",
    "- roll(int field, int amount) 저장한 필드의 값 증가 혹은 감소 => 다른 필드에 영향을 미치지 않음\n",
    "    - Calendar.DATE 에서 1을 증가하면 다음달로 넘어가기에 월필드의 값도 1 증가, 그러나 roll 의 경우에는 다른 필드가 같이 증가 x\n",
    "    - 그러나 말일일때 월 필드를 변경하면 일 필드에 영향을 미칠 수 있음 ex) 3월 31일 => 2월 28일"
   ]
  }
 ],
 "metadata": {
  "language_info": {
   "name": "python"
  },
  "orig_nbformat": 4
 },
 "nbformat": 4,
 "nbformat_minor": 2
}
