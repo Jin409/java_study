{
 "cells": [
  {
   "cell_type": "markdown",
   "id": "6d13af0a",
   "metadata": {},
   "source": [
    "# 객체지향프로그래밍\n",
    "\n",
    "- 객체지향언어의 특징\n",
    "1. 코드의 재사용성이 높다.\n",
    "2. 코드의 관리가 용이하다.\n",
    "3. 신뢰성이 높은 프로그래밍을 가능하게 한다. (제어자와 메서드를 이용하여 데이터 보호 / 올바른 값 유지)\n",
    "\n",
    "- `클래스`란?\n",
    "    - 객체를 정의해놓은 것\n",
    "    - 설계도를 통해 제품을 만드는 원리와 같다.\n",
    "    - 클래스는 객체 자체가 아니라 설게도 (TV != TV의 설계도)\n",
    "\n",
    "- `인스턴스`란?\n",
    "    - 클래스를 통해 만들어진 객체\n",
    "    - 클래스로 객체를 만드는 과정은 인스턴스화\n",
    "<br><br>\n",
    "\n",
    "- 객체의 구성요소\n",
    "    - 속성(`멤버변수`) / 기능(`메서드`)\n",
    "    - 클래스 내에는 속성과 기능이 모두 정의되어 있음\n",
    "    - 티비의 크기, 높이, 길이 등이 속성 / 켜기, 끄기, 볼륨 높이기 등이 기능\n",
    "\n"
   ]
  },
  {
   "cell_type": "markdown",
   "id": "bf2ed390",
   "metadata": {},
   "source": [
    "### 인스턴스의 생성과 사용"
   ]
  },
  {
   "cell_type": "code",
   "execution_count": 4,
   "id": "6d1d817e",
   "metadata": {
    "vscode": {
     "languageId": "java"
    }
   },
   "outputs": [],
   "source": [
    "Tv t; // t라는 참조변수 생성\n",
    "t = new Tv(); //Tv라는 클래스의 인스턴스 생성\n",
    "\n",
    "//혹은 아래와 같이 사용\n",
    "\n",
    "Tv t = new Tv(); "
   ]
  },
  {
   "cell_type": "markdown",
   "id": "49cd14fe",
   "metadata": {},
   "source": [
    "- `참조변수`란? \n",
    "    - 실제 값을 가지는 것이 아닌 값이 들어가 있는 주소를 가진 변수"
   ]
  },
  {
   "cell_type": "code",
   "execution_count": 5,
   "id": "735c38f9",
   "metadata": {
    "vscode": {
     "languageId": "java"
    }
   },
   "outputs": [],
   "source": [
    "class Tv {\n",
    "String color;\n",
    "boolean power;\n",
    "int channel;\n",
    "\n",
    "void power(){power = !power;}\n",
    "void channelUp(){++channel;}\n",
    "void channelDown(){--channel;}\n",
    "}\n",
    "\n",
    "class Tvtest2{\n",
    "    public static void main (String args[]){\n",
    "    Tv t1 = new Tv();\n",
    "    Tv t2 = new Tv();\n",
    "\n",
    "    t1.channel = 1;\n",
    "    t2.channel = 9;\n",
    "    System.out.println(t1); //1이 출력됨.\n",
    "    System.out.println(t2); //9가 출력됨.\n",
    "    \n",
    "    t2 = t1; // 참조변수 t2가 가리키던 인스턴스는 사라지고 t1의 인스턴스로 바뀐다.\n",
    "        \n",
    "    System.out.println(t1); //1이 출력됨.\n",
    "    System.out.println(t2); //1이 출력됨.\n",
    "    \n",
    "    }\n",
    "}"
   ]
  },
  {
   "cell_type": "markdown",
   "id": "63c9b050",
   "metadata": {},
   "source": [
    "### 하나의 인스턴스를 여러개의 참조변수가 가리키는 것은 가능하지만, 하나의 참조변수가 여러개의 인스턴스를 가리킬 수는 없음!"
   ]
  },
  {
   "cell_type": "markdown",
   "id": "789647f4",
   "metadata": {},
   "source": [
    "### 객체배열\n",
    "\n",
    "- 여러 개의 인스턴스를 다루어야 할 때 사용\n",
    "- 반드시 `배열을 생성한 뒤, 각 요소에 객체를 저장해야 한다.`"
   ]
  },
  {
   "cell_type": "code",
   "execution_count": 10,
   "id": "99daf202",
   "metadata": {
    "vscode": {
     "languageId": "java"
    }
   },
   "outputs": [],
   "source": [
    "Tv tv1, tv2, tv3;\n",
    "\n",
    "// better\n",
    "\n",
    "//배열 생성\n",
    "Tv[] tvarr = new Tv[3];\n",
    "\n",
    "tvarr[0] = new Tv();\n",
    "tvarr[1] = new Tv();\n",
    "tvarr[2] = new Tv();\n",
    "\n",
    "// 혹은\n",
    "\n",
    "Tv[] tvarr = {\n",
    "new Tv(), new Tv(), new Tv()};\n",
    "\n",
    "// 혹은 for 문으로도 가능"
   ]
  },
  {
   "cell_type": "markdown",
   "id": "ee764c69",
   "metadata": {},
   "source": [
    "### 기본형 클래스와 참조 클래스\n",
    "- 기본형 클래스는 String 과 같은 기존에 존재하는 클래스\n",
    "- 참조 클래스는 사용자가 직접 정의한 클래스 (위에서 언급한 TV와 같이)"
   ]
  },
  {
   "cell_type": "markdown",
   "id": "a4e987a7",
   "metadata": {},
   "source": [
    "### 변수와 메서드\n",
    "\n",
    " #### 선언위치에 따른 변수\n",
    "    1. 클래스 변수 : 멤버변수 중 `static이 붙은` 변수\n",
    "        - 생성 시기 : 클래스가 메모리에 올라갈 때\n",
    "        - 모든 인스턴스가 동일한 값을 지님\n",
    "        - 바로 사용할 수 있음. \n",
    "        - `클래스명.클래스변수명`과 같은 형태로 사용\n",
    "     \n",
    "    2. 인스턴스 변수 : 멤버변수 중 `static이 붙지 않은` 변수\n",
    "        - 생성 시기 : 인스턴스가 선언될 때\n",
    "        - 객체마다 고유한 값을 가질 수 있다 \n",
    "        - 값을 읽기 위해서는 인스턴스가 먼저 생성되어야 한다. \n",
    "    3. 지역변수 : 클래스 내에 정의된 `멤버변수를 제외한 나머지 변수들` 모두 \n",
    "        - 생성 시기 : 변수 선언문이 수행되었을 때\n",
    "        - 메서드가 종료되면 사용 불가능\n"
   ]
  },
  {
   "cell_type": "code",
   "execution_count": 12,
   "id": "30aef500",
   "metadata": {
    "vscode": {
     "languageId": "java"
    }
   },
   "outputs": [],
   "source": [
    "//카드의 클래스를 선언해보자\n",
    "\n",
    "class Card{\n",
    "String kind; // 각 인스턴스마다 값이 달라야 하기에 인스턴스 변수로 선언\n",
    "int number;\n",
    "\n",
    "static int width = 100;\n",
    "static int height = 250; // 공통적으로 값이 유지되어야 하므로 클래스 변수로 \n",
    "}"
   ]
  },
  {
   "cell_type": "code",
   "execution_count": 13,
   "id": "2f7cf842",
   "metadata": {
    "vscode": {
     "languageId": "java"
    }
   },
   "outputs": [],
   "source": [
    "class CardTest{\n",
    "public static void main (String args[]){\n",
    "\n",
    "System.out.println(\"Card width : \"+ Card.width); \n",
    "System.out.println(\"Card height : \"+ Card.height);//객체가 없음에도 바로 값 참조 가능.(클래스변수이기 때문)\n",
    "\n",
    "Card c1 = new Card();\n",
    "c1.kind = \"spade\";\n",
    "c1.number = 2;\n",
    "\n",
    "Card c2 = new Card();\n",
    "c2.kind = \"heart\";\n",
    "c2.number = 1;\n",
    "\n",
    "c1.height = 30;\n",
    "c1.width = 50;\n",
    "\n",
    "System.out.println(c2.width) // c1.width를 변경한 것과 같이 50이 출력됨. 인스턴스변수와는 다르게 클래스 변수이기 때문. (static)\n",
    "}\n",
    "}"
   ]
  },
  {
   "cell_type": "markdown",
   "id": "29446e4c",
   "metadata": {},
   "source": [
    "#### 메서드\n",
    "\n",
    "- 함수와 유사\n",
    "- 작업 수행에 필요한 값을 넣고 원하는 결과를 얻으면 된다. \n",
    "\n",
    "- 메서드 사용 이유 \n",
    "    1. 높은 재사용성 : 한번 만들어놓은 메서드는 계속해서 호출할 수 있다. \n",
    "    2. 중복된 코드의 제거 : 반복되는 문장들 대신 하나의 호출로 간략하게 ex)\n",
    "    \n",
    "```Java\n",
    "\n",
    "for (int i=0;i<10;i++)\n",
    "    System.out.print(arr[i]);\n",
    "\n",
    "arr[3]=3;\n",
    "arr[10]=6;\n",
    "\n",
    "for (int i=0;i<10;i++)\n",
    "    System.out.print(arr[i]0;\n",
    "```\n",
    "   \n",
    "  for 문이 겹치는 것을 확인할 수 있음.\n",
    "  \n",
    "  3. 프로그램의 구조화 : main 메서드에 모든 코드를 적는 것이 아니라 작업 단위로 나눠서 여러 개의 메서드를 사용\n"
   ]
  },
  {
   "cell_type": "code",
   "execution_count": 14,
   "id": "f5b2b01a",
   "metadata": {
    "collapsed": true,
    "vscode": {
     "languageId": "java"
    }
   },
   "outputs": [
    {
     "ename": "CompilationException",
     "evalue": "",
     "output_type": "error",
     "traceback": [
      "\u001b[1m\u001b[30m|   \u001b[1m\u001b[30mprintArr(\u001b[0m\u001b[1m\u001b[30m\u001b[41mnum\u001b[0m\u001b[1m\u001b[30m); // num이라는 이름의 배열\u001b[0m",
      "\u001b[1m\u001b[31mcannot find symbol\u001b[0m",
      "\u001b[1m\u001b[31m  symbol:   variable num\u001b[0m",
      ""
     ]
    }
   ],
   "source": [
    "//중복된 코드 제거의 예시\n",
    "\n",
    "static void printArr(int[] num){\n",
    "for (int i=0;i<10;i++)\n",
    "    System.out.print(num[i]);\n",
    "\n",
    "}\n",
    "\n",
    "printArr(num); // num이라는 이름의 배열"
   ]
  },
  {
   "cell_type": "markdown",
   "id": "599941ce",
   "metadata": {},
   "source": [
    "### 메서드의 선언과 구현\n",
    "\n",
    "- 형태\n",
    "<br> int add (int x, int y) {\n",
    "}\n",
    "- 여기서 맨 앞의 int 는 메서드의 반환타입, add는 메서드명, int x와 y는 매개변수\n",
    "\n",
    "- `매개변수`란?\n",
    "    - 메서드가 작업을 수행하는 데에 필요한 값들\n",
    "    - 변수 간의 구분은 쉼표\n",
    "    - 변수 타입을 생략해서는 안된다. \n",
    "    - 입력받을 것이 없다며 () 안에 아무것도 쓰지 않으면 됨.\n",
    "    \n",
    "- `반환타입`?\n",
    "    - 반환 값이 없다면 void\n",
    "    - 반환 값의 타입을 적는다\n",
    "\n",
    "- 메서드의 구현부\n",
    "    - 호출 시에 수행될 문장들\n",
    "    - 구현부 내에 반환이 void 가 아닌 이상 return 문이 반드시 있어야 한다.\n",
    "    - return 값의 타입은 위의 반환타입과 일치해야 한다. \n",
    "    \n",
    "- 메서드의 지역변수 : 해당 메서드 블록 내에서만 사용할 수 있다.\n",
    "\n",
    "```Java\n",
    "\n",
    "int add(int x, int y){\n",
    "    \n",
    "    int result = x+y;\n",
    "    return result;\n",
    "}\n",
    "\n",
    "int multiply(int x, int y){\n",
    "    \n",
    "    int result = x*y;\n",
    "    return result;\n",
    "}\n",
    "\n",
    "```\n",
    "\n",
    "위에서의 x,y와 아래의 x,y는 다르다"
   ]
  },
  {
   "cell_type": "markdown",
   "id": "332fdcc3",
   "metadata": {},
   "source": [
    "### 메서드의 호출\n",
    "\n",
    "- 메서드이름(값1, 값2 ...)\n",
    "- 메서드 호출 시의 괄호 안의 값들을 인자 / 인수라고 함. \n",
    "- 메서드 호출 시의 인자의 순서는 `메서드에 선언된 매개변수와 일치해야` 함.\n",
    "- 형변환이 가능한 경우에는 타입이 달라도 된다. ex) 메서드에는 double 로 선언되어 있고 호출 시의 인자는 Long 인 경우"
   ]
  },
  {
   "cell_type": "markdown",
   "id": "622846ea",
   "metadata": {},
   "source": [
    "## ?\n",
    "p.255 `같은 클래스 내의 메서드끼리는 참조변수를 사용하지 않고도 서로 호출이 가능하지만 static메서드는 같은 클래스 내의 인스턴스 메서드를 호출할 수 없다 `"
   ]
  },
  {
   "cell_type": "markdown",
   "id": "b3f9c29a",
   "metadata": {},
   "source": [
    "### `return 문 사용시 주의할 점`"
   ]
  },
  {
   "cell_type": "code",
   "execution_count": 17,
   "id": "3a7c2a1c",
   "metadata": {
    "vscode": {
     "languageId": "java"
    }
   },
   "outputs": [
    {
     "ename": "CompilationException",
     "evalue": "",
     "output_type": "error",
     "traceback": [
      "\u001b[1m\u001b[30m|   \u001b[1m\u001b[30mint multiply(int x, int y)\u001b[0m\u001b[1m\u001b[30m\u001b[41m{\u001b[0m",
      "\u001b[1m\u001b[30m|   \u001b[1m\u001b[30m\u001b[41mif (x>y){\u001b[0m",
      "\u001b[1m\u001b[30m|   \u001b[1m\u001b[30m\u001b[41mreturn x;\u001b[0m",
      "\u001b[1m\u001b[30m|   \u001b[1m\u001b[30m\u001b[41m}\u001b[0m",
      "\u001b[1m\u001b[30m|   \u001b[1m\u001b[30m\u001b[41m}\u001b[0m",
      "\u001b[1m\u001b[31mmissing return statement\u001b[0m",
      ""
     ]
    }
   ],
   "source": [
    "int multiply(int x, int y){\n",
    "if (x>y){\n",
    "return x;\n",
    "}\n",
    "} // missing return statement if 문에 걸리는 경우에만 return 문이 존재하기 때문"
   ]
  },
  {
   "cell_type": "code",
   "execution_count": 18,
   "id": "89078935",
   "metadata": {
    "vscode": {
     "languageId": "java"
    }
   },
   "outputs": [],
   "source": [
    "int multiply(int x, int y){\n",
    "if (x>y){\n",
    "return x;\n",
    "}\n",
    "else\n",
    "return y;\n",
    "}"
   ]
  },
  {
   "cell_type": "markdown",
   "id": "a0ba8437",
   "metadata": {},
   "source": [
    "### 매개변수의 유효성 검사\n",
    "- 타입만 맞다면 어떠한 매개변수도 들어올 수 있기 때문에 주의해야 한다.\n",
    "ex\n",
    "```Java\n",
    "int devide(int x, int y){\n",
    "    return x/y;\n",
    "}\n",
    "```\n",
    "위와 같은 메서드에서 y가 0이 들어온다면 오류가 나기에 이를 처리해주어야 한다."
   ]
  },
  {
   "cell_type": "markdown",
   "id": "bbd4be9e",
   "metadata": {},
   "source": [
    "### JVM의 메모리 구조\n",
    "\n",
    "1. 메서드 영역\n",
    "- 클래스를 읽어서 분석 -> 클래스에 대한 정보 저장 \n",
    "- 클래스 변수도 함께 저장됨\n",
    "\n",
    "2. 힙\n",
    "- 인스턴스가 생성되는 공간\n",
    "- 인스턴스 변수들이 생성되는 공간\n",
    "\n",
    "3. 호출스택\n",
    "- 메서드 작업에 필요한 메모리 공간 제공\n",
    "- 메서드가 작업을 마치면 메모리 공간은 반환됨"
   ]
  },
  {
   "cell_type": "markdown",
   "id": "dd79c8d0",
   "metadata": {},
   "source": [
    "- 메서드가 호출되면 해당 메서드에 `필요한 만큼 메모리를 할당받는다`\n",
    "- 메서드 `수행이 끝나면 메모리가 반환되고 스택에서 제거`된다. \n",
    "- 호출스택의 제일 위에 있는 메서드가 현재 실행 중인 메서드.\n",
    "- 아래에 있는 메서드가 바로 위의 메서드를 호출한 메서드.\n"
   ]
  },
  {
   "cell_type": "code",
   "execution_count": 1,
   "id": "21203066",
   "metadata": {
    "vscode": {
     "languageId": "java"
    }
   },
   "outputs": [],
   "source": [
    "class CallStack{\n",
    "    public static void main(String[] args){\n",
    "        firstMethod();\n",
    "    }\n",
    "\n",
    "    static void firstMethod(){\n",
    "        secondMethod();\n",
    "    }\n",
    "\n",
    "    static void secondMethod(){\n",
    "        System.out.println(\"new\");\n",
    "    }\n",
    "}"
   ]
  },
  {
   "cell_type": "markdown",
   "id": "aa8e8921",
   "metadata": {},
   "source": [
    "### 호출스택의 변화\n",
    "\n",
    "1. 호출스택에 main 이 들어간다.\n",
    "2. main 내에서 first를 불렀으므로 main 위에 first가 들어간다.\n",
    "3. first 내에서 second 를 불렀으므로 main과 first 위에 second가 들어간다. \n",
    "4. second 내에서 print를 불렀으므로 main과 first와 second 위에 print가 들어간다.\n",
    "5. print가 종료되면 second 로 돌아간다. (호출스택에서 print가 빠짐)\n",
    "6. second 는 종료되면 first로 돌아간다. (호출스택에서 second가 빠짐)\n",
    "7. first는 종료되면 main 으로 돌아간다. (호출스택에서 first가 빠짐)\n",
    "8. main 은 종료되면 호출 스택이 비워진다. "
   ]
  },
  {
   "cell_type": "markdown",
   "id": "15fc1210",
   "metadata": {},
   "source": [
    "### 기본형 매개변수와 참조형 매개변수\n",
    "\n",
    "- 기본형 매개변수 : 변수의 값만\n",
    "- 참조형 매개변수 : 값을 읽고 변경할 수 있음 (주소 자체를 읽어오기 때문!)"
   ]
  },
  {
   "cell_type": "code",
   "execution_count": 2,
   "id": "519baf4b",
   "metadata": {
    "vscode": {
     "languageId": "java"
    }
   },
   "outputs": [],
   "source": [
    "// 기본형 매개변수로 읽어보자\n",
    "class Data{int x;}\n",
    "\n",
    "class PrimitiveParamEx{\n",
    "    public static void main(String[] args){\n",
    "        Data d = new Data();\n",
    "        d.x = 10;\n",
    "        System.out.println(\"before\"+d.x); // 10\n",
    "\n",
    "        change(d.x);\n",
    "        System.out.println(\"after\"+d.x); // 10 -> 바꿨는데도 값이 그대로!\n",
    "    }\n",
    "\n",
    "    static void change(int x){// 기본형 매개변수\n",
    "        x = 10000;\n",
    "    }\n",
    "}"
   ]
  },
  {
   "cell_type": "markdown",
   "id": "eae098d6",
   "metadata": {},
   "source": [
    "### 왜 x의 값이 바뀌지 않았을까?\n",
    "\n",
    "- change 의 매개변수로 들어간 d.x 에서는 d.x 값의 복사본이기에 원본에는 아무런 영향을 끼치지 못하는 것이다.\n",
    "- -> 이것이 기본형 매개변수!"
   ]
  },
  {
   "cell_type": "code",
   "execution_count": 3,
   "id": "6ef0997f",
   "metadata": {
    "vscode": {
     "languageId": "java"
    }
   },
   "outputs": [],
   "source": [
    "//참조형 매개변수로 읽어보자\n",
    "class Data{int x;}\n",
    "\n",
    "class PrimitiveParamEx{\n",
    "    public static void main(String[] args){\n",
    "        Data d = new Data();\n",
    "        d.x = 10;\n",
    "        System.out.println(\"before\"+d.x); // 10\n",
    "\n",
    "        change(d);\n",
    "        System.out.println(\"after\"+d.x); // 10000 -> 값이 바뀜!\n",
    "    }\n",
    "\n",
    "    static void change(Data d){ // 참조형 매개변수\n",
    "        d.x = 10000;\n",
    "    }\n",
    "}"
   ]
  },
  {
   "cell_type": "markdown",
   "id": "8d181391",
   "metadata": {},
   "source": [
    "### 왜 x의 값이 바뀌었을까?\n",
    "\n",
    "- 참조변수의 값이 매개변수에 복사된 것.\n",
    "- 메서드가 종료되면 매개변수가 스택에서 제거됨."
   ]
  },
  {
   "cell_type": "markdown",
   "id": "3e312890",
   "metadata": {},
   "source": [
    "### 참조형 반환타입\n",
    "\n",
    "- 메서드가 반환하는 타입이 참조형이라는 뜻!"
   ]
  },
  {
   "cell_type": "code",
   "execution_count": 4,
   "id": "62de7409",
   "metadata": {
    "vscode": {
     "languageId": "java"
    }
   },
   "outputs": [],
   "source": [
    "class Data{int x;}\n",
    "class ReferenceRetrunEx{\n",
    "    public static void main(String[] args){\n",
    "        Data d = new Data();\n",
    "        d.x = 10;\n",
    "\n",
    "        Data d2 = copy(d); // tmp 를 담고자 하는 변수의 타입 역시도 Data 로 반환타입과 일치해야 한다. \n",
    "        //copy 메서드에서 생성한 객체는 반드시 변수에 담아줘야 한다. -> 메서드 종료 시에 소멸되기 때문. \n",
    "\n",
    "    }\n",
    "\n",
    "    static Data copy(Data d){\n",
    "        Data tmp = new Data();\n",
    "        tmp.x = d.x;\n",
    "\n",
    "        return tmp;\n",
    "    }\n",
    "}"
   ]
  },
  {
   "cell_type": "markdown",
   "id": "1359c8dc",
   "metadata": {},
   "source": [
    "### 재귀호출\n",
    "- 메서드 자신을 지속해서 다시 호출하는 것\n",
    "- 재귀호출하는 메서드는 재귀 메서드\n",
    "\n",
    "- 반복문과 비슷한 역할을 함. 그러나 수행시간은 반복문보다 더 오래걸림\n",
    "    - 그렇다면 왜 재귀호출을 쓸까? `논리적 간결성`\n",
    "- 반복문처럼 종료조건이 없으면 무한히 돈다."
   ]
  },
  {
   "cell_type": "code",
   "execution_count": 6,
   "id": "138a6a1f",
   "metadata": {
    "vscode": {
     "languageId": "java"
    }
   },
   "outputs": [],
   "source": [
    "// 팩토리얼을 재귀호출로 구현\n",
    "class FactorialTest{\n",
    "    public static void main(String[] args){\n",
    "        int result = factorial(4);\n",
    "\n",
    "        System.out.print(result);\n",
    "    }\n",
    "\n",
    "    static int factorial(int n){\n",
    "        int result = 0;\n",
    "        if (n==1){\n",
    "            result = 1; // 종료조건\n",
    "        }\n",
    "        else\n",
    "            result = n*factorial(n-1); // 재귀호출\n",
    "\n",
    "        return result;\n",
    "    }\n",
    "}\n",
    "\n",
    "// 그러나 매개변수가 0이거나 너무 입력값이 크다면.. -> 재귀호출이 끊임없이 일어날 것이다.\n",
    "// 그렇기에 매개변수 유효검사가 중요 !"
   ]
  },
  {
   "cell_type": "markdown",
   "id": "192dad0d",
   "metadata": {},
   "source": [
    "### 클래스 메서드와 인스턴스 메서드\n",
    "\n",
    "- 객체를 생성하지 않고도 클래스 메서드는 사용이 가능하다. \n",
    "    - 어떤 경우에 클래스 메서드를 사용할까?\n",
    "    1. 클래스 설계할 때 멤버변수 중 모든 인스턴스에 공통적으로 사용하는 메서드인 경우\n",
    "    2. 인스턴스 변수를 사용하지 않는 경우"
   ]
  }
 ],
 "metadata": {
  "kernelspec": {
   "display_name": "Java",
   "language": "java",
   "name": "java"
  },
  "language_info": {
   "codemirror_mode": "java",
   "file_extension": ".jshell",
   "mimetype": "text/x-java-source",
   "name": "Java",
   "pygments_lexer": "java",
   "version": "18+36-2087"
  }
 },
 "nbformat": 4,
 "nbformat_minor": 5
}
