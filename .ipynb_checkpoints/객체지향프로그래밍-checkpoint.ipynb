{
 "cells": [
  {
   "cell_type": "markdown",
   "metadata": {},
   "source": [
    "### 객체지향프로그래밍"
   ]
  },
  {
   "cell_type": "markdown",
   "metadata": {},
   "source": [
    "- 객체지향언어의 특징\n",
    "1. 코드의 재사용성이 높다.\n",
    "2. 코드의 관리가 용이하다.\n",
    "3. 신뢰성이 높은 프로그래밍을 가능하게 한다. (제어자와 메서드를 이용하여 데이터 보호 / 올바른 값 유지)\n"
   ]
  },
  {
   "cell_type": "markdown",
   "metadata": {},
   "source": [
    "- `클래스`란?\n",
    "    - 객체를 정의해놓은 것\n",
    "    - 설계도를 통해 제품을 만드는 원리와 같다.\n",
    "    - 클래스는 객체 자체가 아니라 설게도 (TV != TV의 설계도)\n",
    "\n",
    "- `인스턴스`란?\n",
    "    - 클래스를 통해 만들어진 객체\n",
    "    - 클래스로 객체를 만드는 과정은 인스턴스화\n",
    "<br><br>\n",
    "\n",
    "- 객체의 구성요소\n",
    "    - 속성(`멤버변수`) / 기능(`메서드`)\n",
    "    - 클래스 내에는 속성과 기능이 모두 정의되어 있음\n",
    "    - 티비의 크기, 높이, 길이 등이 속성 / 켜기, 끄기, 볼륨 높이기 등이 기능\n",
    "\n",
    "\n"
   ]
  },
  {
   "cell_type": "markdown",
   "metadata": {},
   "source": []
  }
 ],
 "metadata": {
  "kernelspec": {
   "display_name": "Python 3 (ipykernel)",
   "language": "python",
   "name": "python3"
  },
  "language_info": {
   "codemirror_mode": {
    "name": "ipython",
    "version": 3
   },
   "file_extension": ".py",
   "mimetype": "text/x-python",
   "name": "python",
   "nbconvert_exporter": "python",
   "pygments_lexer": "ipython3",
   "version": "3.9.7"
  }
 },
 "nbformat": 4,
 "nbformat_minor": 2
}
