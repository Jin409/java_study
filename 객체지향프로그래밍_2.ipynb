{
 "cells": [
  {
   "cell_type": "markdown",
   "metadata": {},
   "source": [
    "## `상속`\n",
    ": 기존의 클래스를 재사용하여 새로운 클래스를 작성하는 것\n",
    "\n",
    "- 장점 : 적은 양의 코드로 클래스 작성 가능 / 코드의 추가나 변경이 용이\n",
    "```Java\n",
    "class Child extends Parent {\n",
    "    \n",
    "}\n",
    "```\n",
    "- 자손 클래스는 조상 클래스의 모든 멤버를 상속받음\n",
    "- 조상 클래스에 새로운 멤버변수 추가시에 자손 클래스도 멤버변수 추가됨 \n",
    "- 자손 클래스의 변경은 조상 클래스에 영향 x\n",
    "- 조상 클래스의 모든 멤버를 상속 받기 때문에 항상 조상 클래스보다 같거나 많은 멤버를 가짐.\n",
    "    - 이와 같은 이유로 확장이라는 명칭 사용 !\n",
    "- 자손 아래에 자손을 추가하여도 부모 클래스의 변화가 반영됨\n",
    "\n",
    "#### 주의할 점 \n",
    "- 생성자와 초기화 블럭은 상속되지 않고 멤버만 상속됨\n",
    "\n",
    "#### 포함관계\n",
    "- 클래스를 재사용하는 방법\n",
    "- 한 클래스의 멤버변수로 다른 클래스 타입의 참조변수를 선언하는 것\n"
   ]
  },
  {
   "cell_type": "code",
   "execution_count": 2,
   "metadata": {
    "vscode": {
     "languageId": "java"
    }
   },
   "outputs": [],
   "source": [
    "class Point{\n",
    "    int x;\n",
    "    int y;\n",
    "}\n",
    "\n",
    "class Circle{\n",
    "    Point c = new Point(); // int x, int y 선언 부분\n",
    "    int r; \n",
    "}"
   ]
  },
  {
   "cell_type": "markdown",
   "metadata": {},
   "source": [
    "#### 클래스간의 관계 설정하기\n",
    "- `~는 ~다` 가 더 어울린다면 상속\n",
    "- `~는 ~을 가지고 있다`가 더 어울린다면 포함관계"
   ]
  },
  {
   "cell_type": "code",
   "execution_count": null,
   "metadata": {
    "vscode": {
     "languageId": "java"
    }
   },
   "outputs": [],
   "source": [
    "Circle c = new Circle(new Point(150,150),50);\n",
    "// 아래와 같다\n",
    "Point p = new Point(150,150);\n",
    "Circle c = new Circle(p,50);"
   ]
  },
  {
   "cell_type": "markdown",
   "metadata": {},
   "source": [
    "#### 참조변수\n",
    "```Java\n",
    "Card c = d.pick(0);\n",
    "Card pick(int index){\n",
    "    return cardArr[index];\n",
    "}\n",
    "```\n",
    "- index 에 해당하는 객체가 참조변수인 c에 저장됨\n",
    "- 참조변수는 출력 시에 자동으로 c.toString() 이 적용되어 출력됨"
   ]
  },
  {
   "cell_type": "markdown",
   "metadata": {},
   "source": [
    "#### 단일상속\n",
    "- 둘 이상의 클래스로부터 상속 불가\n",
    "```Java\n",
    "class TVCR extends TV,VCR{\n",
    "    //에러\n",
    "}\n",
    "```"
   ]
  },
  {
   "cell_type": "markdown",
   "metadata": {},
   "source": [
    "#### 최상위 클래스 Object\n",
    "\n",
    "- 상속하지 않고 어떤 클래스를 선언하더라도 자동으로 `extends Object`가 적용됨.\n",
    "\n",
    "******************"
   ]
  },
  {
   "cell_type": "markdown",
   "metadata": {},
   "source": [
    "## `오버라이딩`\n",
    "\n",
    "- 상속받은 메서드의 내용을 변경하는 것\n",
    "```Java\n",
    "class Point{\n",
    "    int x;\n",
    "    int y;\n",
    "    String getLocation(){\n",
    "        return \"x:\"+x+\"y\"+y;\n",
    "    }\n",
    "}\n",
    "\n",
    "class Point3D extends Point{\n",
    "    int z;\n",
    "    String getLocation(){\n",
    "        return \"x:\"+x+\"y\"+y+\"z\"+z;\n",
    "    }\n",
    "}\n",
    "```\n",
    "- 이용자들은 점을 문자열로 반환하기를 Point3D에서도 똑같이 기대할 것 -> 따라서 새로운 메소드보다는 오버라이딩하는 것이 맞는 선택\n",
    "\n",
    "> 조건\n",
    "- 이름 동일\n",
    "- 매개변수 동일\n",
    "- 반환타입 동일\n",
    "\n",
    "- `접근 제어자 / 예외는 제한된 조건 하에서 변경 가능!`\n",
    "1. 접근 제어자는 조상 클래스의 메서드보다 좁은 범위로 변경할 수 없다.\n",
    "2. 조상클래스의 메서드보다 많은 수의 예외 선언 불가능\n",
    "3. 인스턴스 메서드를 static 메서드로 또는 그 반대로 변경할 수 없다.\n",
    "<br><br><br>\n",
    "    1. 접근 제어자는 조상 클래스의 메서드보다 좁은 범위로 변경할 수 없다.<br>\n",
    "    ex) 만일 조상 클래스에 정의된 메서드의 접근 제어자가 protected, 이를 오버라이딩하는 자손 클래스는 protected나 public 이어야함.\n",
    "    - 접근 범위 (넓은 순에서 좁은 순)<br>\n",
    "    public > protected > default > private\n",
    "    - `protected 란?`\n",
    "        - 다른 패키지일 경우에는 자식 클래스일 경우에만 접근을 허용\n",
    "    2. 조상클래스의 메서드보다 많은 수의 예외 선언 불가능\n",
    "    - 주의해야 하는 상황\n",
    "    ```Java\n",
    "    class Parent{\n",
    "        void paentMethod() throws IOException, SQLException{\n",
    "            ...\n",
    "        }\n",
    "    }\n",
    "    calass Child extends Parent{\n",
    "        void parentMethod() throws Exception{\n",
    "\n",
    "        }\n",
    "    }\n",
    "    ```\n",
    "    - -> 위와 같은 상황에서는 자손 클래스에서는 예외를 하나만 선언한 것처럼 보이지만, Exception 은 모든 예외의 최고 조상이기 때문에 <br>가장 많은 개수의 예외를 던질 수 있도록 선언한 것이므로 오류다!"
   ]
  },
  {
   "cell_type": "markdown",
   "metadata": {},
   "source": [
    "#### 오버로딩 vs 오버라이딩\n",
    "- 오버로딩 : 새로운 메소드 정의\n",
    "- 오버라이딩 : 상소받은 메서드의 내용을 변경하는 것\n",
    "\n",
    "#### super\n",
    "- "
   ]
  }
 ],
 "metadata": {
  "kernelspec": {
   "display_name": "Java",
   "language": "java",
   "name": "java"
  },
  "language_info": {
   "codemirror_mode": "java",
   "file_extension": ".jshell",
   "mimetype": "text/x-java-source",
   "name": "Java",
   "pygments_lexer": "java",
   "version": "18+36-2087"
  },
  "orig_nbformat": 4
 },
 "nbformat": 4,
 "nbformat_minor": 2
}
